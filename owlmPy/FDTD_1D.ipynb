{
 "cells": [
  {
   "cell_type": "code",
   "execution_count": 2,
   "metadata": {},
   "outputs": [],
   "source": [
    "import numpy as np\n",
    "import matplotlib.pyplot as plt\n",
    "import matplotlib.animation as animation \n",
    "from IPython.display import HTML\n",
    "import time"
   ]
  },
  {
   "cell_type": "code",
   "execution_count": 7,
   "metadata": {},
   "outputs": [
    {
     "name": "stdout",
     "output_type": "stream",
     "text": [
      "9.881422924901186e-06\n",
      "2.4703557312252967e-07\n",
      "3.3499999999999997e-06\n",
      "2.4703557312252967e-07\n",
      "2.4662576687116563e-07\n"
     ]
    }
   ],
   "source": [
    "print(lambda_min)\n",
    "print(delta_lambda)\n",
    "print(delta_ds)\n",
    "print(delta_z)\n",
    "print(dz)"
   ]
  },
  {
   "cell_type": "code",
   "execution_count": 3,
   "metadata": {},
   "outputs": [],
   "source": [
    "#=====User defined Values ============\n",
    "ds = np.array([134,134,134]) #Layers' tickness vector in cm\n",
    "eps = np.array([1, 1 , 1]) #Refraction index vector\n",
    "mus = np.array([6.4009,2.25,1.9044]) #Refraction index vector\n",
    "lamda_min = 250  #Minimun wave Lenght in nm\n",
    "lamda_max = 1000 #Maximun wave Lenght in nm\n",
    "Ny = 40 #Number of cells in a wavelength\n",
    "Nd = 4 #Number of cells in the smallest layer\n",
    "offset= 3+100 #adtional points to grid +3 for boundary TRN/REF/SRC +20 for space regions )\n",
    "nbc = 1  # refraction index at boundary conditions\n",
    "epsrc = 1 #  Permittivity at boundary source\n",
    "musrc = 1 # Permeabilitya at boundary source\n",
    "src_ini=2 # cell in wich the cell will be injected\n",
    "frames = 500\n",
    "\n",
    "\n",
    "#======Calculation of steps in the spatial yee grid========\n",
    "ds = ds*(10**(-7))\n",
    "c0= 299792458 *100 #speed of light cm/s\n",
    "fmax = c0/(lamda_min*(10**(-7)))   #Max wave frecuency in Hz\n",
    "fmin = c0/(lamda_max*(10**(-7)))   #Max wave frecuency in Hz\n",
    "index = np.sqrt(eps*mus) #Refraction index vector\n",
    "lambda_min = c0/(fmax*float(np.amax(index))) # minimun wavelength\n",
    "delta_lambda=(lambda_min/Ny) #Distance of the cell taking into accont the wavelength in cm\n",
    "delta_ds=np.amin(ds)/Nd #Distance of the cell taking into accont the layer\n",
    "delta_z = np.amin([delta_lambda, delta_ds]) #Distance of the cell\n",
    "d = np.sum(ds) #total distance of the space to model\n",
    "N = int(np.ceil(d/delta_z)) #Total steps in grid \n",
    "dz = d/N\n",
    "N += offset \n",
    "z = np.arange(0, N, 1)*dz #z axis\n",
    "\n",
    "#========Compute Position of Materials on Grid========\n",
    "eps_d=np.ones(N)\n",
    "mus_d=np.ones(N)\n",
    "init = int(np.ceil(offset/2))\n",
    "for i in range(np.size(index)):\n",
    "    temp=int(init+np.round(ds[i]/dz,0)+1)\n",
    "    eps_d[init:temp]=eps[i]\n",
    "    mus_d[init:temp]=mus[i]\n",
    "    init=temp\n",
    "\n",
    "#======Calculation of steps in the temporal yee grid========\n",
    "dt=(nbc*dz)/(2*c0) #time of each step\n",
    "tprop =  np.amax(index)*N*dz/c0 #total time it takes for a wave to propagate across the grid one time\n",
    "tao = 1/(2*fmax)\n",
    "T = 12*tao + 3*tprop #Total Number of Iterations\n",
    "S = int(np.ceil(T/dt))\n",
    "frames = int(np.ceil(S/frames))\n",
    "\n",
    "#======Compute the Source Functions for Ey/Hx Mode ========\n",
    "t = np.arange(0, S-1, 1)*dt #time axis\n",
    "delt = nbc*dz/(2*c0) + dt/2 #total delay between E and H because Yee Grid\n",
    "A = - np.sqrt(epsrc/musrc) #amplitude of H field\n",
    "Esrc = np.exp(-((t-6*tao)/tao)**2) #E field source\n",
    "Hsrc = A*np.exp(-((t-6*tao+delt)/tao)**2) #H field source\n"
   ]
  },
  {
   "cell_type": "code",
   "execution_count": null,
   "metadata": {},
   "outputs": [],
   "source": [
    "plt.plot(t,Esrc)\n",
    "plt.plot(t,Hsrc)"
   ]
  },
  {
   "cell_type": "code",
   "execution_count": null,
   "metadata": {},
   "outputs": [],
   "source": [
    "tic = time.clock()\n",
    "\n",
    "#======Initialize the Fourier Transforms ========\n",
    "NFREQ = 1000;\n",
    "FREQ = np.linspace(fmin,fmax,NFREQ);\n",
    "K = np.exp(-1j*2*np.pi*dt*FREQ);\n",
    "REF = np.zeros(NFREQ)+0j;\n",
    "TRN = np.zeros(NFREQ)+0j;\n",
    "SRC = np.zeros(NFREQ)+0j;\n",
    "NREF = np.zeros(NFREQ)+0j;\n",
    "NTRN = np.zeros(NFREQ)+0j;\n",
    "\n",
    "#======Initialize update coficients and compensate for numerical dispertion ========\n",
    "mE=c0*dt/eps_d\n",
    "mH=c0*dt/mus_d\n",
    "\n",
    "#======E and H ========\n",
    "Ey=np.zeros(N)\n",
    "Hx=np.zeros(N)\n",
    "Eys=np.zeros((int(np.ceil((S-2)/frames)),N))\n",
    "Hxs=np.zeros((int(np.ceil((S-2)/frames)),N))\n",
    "\n",
    "#======Initialize PML values ========\n",
    "h1 = 0\n",
    "h2 = 0\n",
    "e1 = 0\n",
    "e2 = 0\n",
    "\n",
    "for i in range(S-2):\n",
    "    \n",
    "    # Update PML values for H \n",
    "    h2 = h1\n",
    "    h1 = Hx[0]\n",
    "    \n",
    "    # Applay PML values for H \n",
    "    Hx[-1] = Hx[-1] + mH[N-1]*(e2 - Ey[-1])/dz\n",
    "    \n",
    "    # Update H from E (Dirichlet Boundary Conditions)    \n",
    "    Hx[0:N-1] = Hx[0:N-1] + mH[0:N-1]*(Ey[1:N] - Ey[0:N-1])/dz\n",
    "    \n",
    "    # Correction for Hx adjacent to TFSF boundary\n",
    "    Hx[src_ini-1] -= mH[src_ini-1]*Esrc[i]/dz\n",
    "\n",
    "    # Update PML values for E \n",
    "    e2 = e1\n",
    "    e1 = Ey[-1]\n",
    "    \n",
    "    # Applay PML values for E \n",
    "    Ey[0] = Ey[0] + mE[0]*(Hx[0] - h2)/dz\n",
    "    \n",
    "    # Update E from H \n",
    "    Ey[1:N] = Ey[1:N] + (mE[1:N]*(Hx[1:N] - Hx[0:N-1]))/dz\n",
    "\n",
    "    # Correction for Ey adjacent to TFSF boundary\n",
    "    Ey[src_ini] -= mE[src_ini]*Hsrc[i]/dz\n",
    "\n",
    "    #Computing discret fourier transform\n",
    "    REF += (K**i)*Ey[1]\n",
    "    TRN += (K**i)*Ey[-1]\n",
    "    SRC += (K**i)*Esrc[i]\n",
    "    \n",
    "    if i % frames == 0:        \n",
    "        Hxs[int(np.ceil(i/frames))]=Hx\n",
    "        Eys[int(np.ceil(i/frames))]=Ey\n",
    "\n",
    "NREF = np.absolute(REF/SRC)**2\n",
    "NTRN = np.absolute(TRN/SRC)**2\n",
    "CON = NREF+ NTRN\n",
    "\n",
    "toc = time.clock()\n",
    "print(\"Total time: \", toc - tic, \" seconds\")"
   ]
  },
  {
   "cell_type": "code",
   "execution_count": null,
   "metadata": {},
   "outputs": [],
   "source": [
    "fig = plt.figure()\n",
    "plts = []\n",
    "\n",
    "for i in range(int(np.floor((S-2)/frames))):\n",
    "    p, = plt.plot(z,Hxs[i], color=\"blue\")\n",
    "    p2, = plt.plot(z,Eys[i], '-r')\n",
    "    plts.append( [p,p2] )     \n",
    "\n",
    "#Add Layers Background\n",
    "plt.axis([0, (N-1)*dz, -2, 2])\n",
    "init = int(np.ceil(offset/2)) \n",
    "color=0.2\n",
    "for j in range(np.size(index)):\n",
    "    temp=int(init+np.round(ds[j]/dz,0)+1)\n",
    "    plt.axvspan(init*dz, temp*dz, facecolor=str(color), alpha=0.5)\n",
    "    init=temp\n",
    "    color += 0.1\n",
    "    \n",
    "ani = animation.ArtistAnimation(fig, plts, interval=50, repeat_delay=3000)\n",
    "HTML(ani.to_jshtml())"
   ]
  },
  {
   "cell_type": "code",
   "execution_count": null,
   "metadata": {},
   "outputs": [],
   "source": [
    "#Ploting Fourier tranform for reflection and trasmition\n",
    "lambd = (c0/FREQ)*(10**7)\n",
    "lambd= np.flip(lambd, 0)\n",
    "\n",
    "plt.subplot(211)\n",
    "plt.plot(lambd, np.flip(np.absolute(TRN),0), label='TRN')\n",
    "plt.legend()\n",
    "plt.subplot(212)\n",
    "plt.plot(lambd, np.flip(np.absolute(REF),0), label='REF')\n",
    "plt.legend()"
   ]
  },
  {
   "cell_type": "code",
   "execution_count": null,
   "metadata": {},
   "outputs": [],
   "source": [
    "#Ploting reflectance vs transmittanc vs transmittance\n",
    "\n",
    "plt.plot(lambd, np.flip(CON,0), label='Conservation')\n",
    "plt.plot(lambd, np.flip(NREF,0), label='Reflectance')\n",
    "plt.plot(lambd, np.flip(NTRN,0), label='Transmittance')\n",
    "plt.legend()"
   ]
  },
  {
   "cell_type": "code",
   "execution_count": null,
   "metadata": {},
   "outputs": [],
   "source": [
    "(lambd==633.07984791).nonzero"
   ]
  },
  {
   "cell_type": "code",
   "execution_count": null,
   "metadata": {},
   "outputs": [],
   "source": [
    "lambd[500]"
   ]
  },
  {
   "cell_type": "code",
   "execution_count": null,
   "metadata": {},
   "outputs": [],
   "source": [
    "print(NREF[500])\n",
    "print(NTRN[500])"
   ]
  },
  {
   "cell_type": "code",
   "execution_count": null,
   "metadata": {},
   "outputs": [],
   "source": []
  }
 ],
 "metadata": {
  "kernelspec": {
   "display_name": "Python 3",
   "language": "python",
   "name": "python3"
  },
  "language_info": {
   "codemirror_mode": {
    "name": "ipython",
    "version": 3
   },
   "file_extension": ".py",
   "mimetype": "text/x-python",
   "name": "python",
   "nbconvert_exporter": "python",
   "pygments_lexer": "ipython3",
   "version": "3.6.5"
  }
 },
 "nbformat": 4,
 "nbformat_minor": 2
}
