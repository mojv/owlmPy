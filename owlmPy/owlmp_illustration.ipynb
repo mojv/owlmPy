{
 "cells": [
  {
   "cell_type": "code",
   "execution_count": 1,
   "metadata": {},
   "outputs": [],
   "source": [
    "import numpy as np"
   ]
  },
  {
   "cell_type": "markdown",
   "metadata": {},
   "source": [
    "<h1><center>Initial values</center></h1>"
   ]
  },
  {
   "cell_type": "code",
   "execution_count": 2,
   "metadata": {},
   "outputs": [],
   "source": [
    "theta = 45 #incident angle in degrees\n",
    "lambd = 633 #wave length in nm\n",
    "ds = np.array([0,134,134,134,0]) #Layers' tickness vector\n",
    "index = np.array([1,2.53,1.5,1.38,1]) #Refraction index vector\n",
    "index = index + 0j #converting index vector into a complex vector\n",
    "\n",
    "N=index.shape[0]-2 #number of layes (without the first and last ones)\n",
    "\n",
    "thetas=np.zeros(N+2)+0j #defining thetas vector (see figure below)\n",
    "thetas[0]=theta1*np.pi/180"
   ]
  },
  {
   "cell_type": "markdown",
   "metadata": {},
   "source": [
    "<h1><center>Multilayer Scheme</center></h1>"
   ]
  },
  {
   "cell_type": "markdown",
   "metadata": {},
   "source": [
    "![image.png](attachment:image.png)"
   ]
  },
  {
   "cell_type": "markdown",
   "metadata": {},
   "source": [
    "<h1><center>Step 01: Inicializacion de K's </center></h1>"
   ]
  },
  {
   "cell_type": "markdown",
   "metadata": {},
   "source": [
    "Taking into account that each layer will have its own wave vector according to its refractive index:\n",
    "\n",
    "$$\\widetilde{n}\\mathbf{=} \\ n_{R} - in_{I}$$\n",
    "\n",
    "The wave vector will be deducted from:\n",
    "\n",
    "$$k = \\frac{\\left( n_{R} - in_{I} \\right)}{c}\\text{w} = \\frac{\\left( n_{R} - in_{I} \\right)}{\\lambda}2\\pi$$"
   ]
  },
  {
   "cell_type": "code",
   "execution_count": 3,
   "metadata": {},
   "outputs": [
    {
     "name": "stdout",
     "output_type": "stream",
     "text": [
      "[0.00992604+0.j 0.02511289+0.j 0.01488906+0.j 0.01369794+0.j\n",
      " 0.00992604+0.j]\n"
     ]
    }
   ],
   "source": [
    "ks= index*2*np.pi/lambd\n",
    "print(ks)"
   ]
  },
  {
   "cell_type": "markdown",
   "metadata": {},
   "source": [
    "<h2><center>Step 02: Inicializacion de  θ's  (Ley de Snell)</center></h2>"
   ]
  },
  {
   "cell_type": "markdown",
   "metadata": {},
   "source": [
    "![image.png](attachment:image.png)"
   ]
  },
  {
   "cell_type": "markdown",
   "metadata": {},
   "source": [
    "The angles of the wave are defined in each layer taking into account:\n",
    "\n",
    "$$n_{i}\\sin(\\theta_{I}) = n_{j}sin(\\theta_{R})$$"
   ]
  },
  {
   "cell_type": "code",
   "execution_count": 4,
   "metadata": {},
   "outputs": [
    {
     "name": "stdout",
     "output_type": "stream",
     "text": [
      "[0.78539816+0.j 0.2832617 +0.j 0.49088268+0.j 0.53797283+0.j\n",
      " 0.78539816+0.j]\n"
     ]
    }
   ],
   "source": [
    "for i in range(N+1):\n",
    "    thetas[i+1] = np.arcsin(np.sin(thetas[i])*index[i]/index[i+1])\n",
    "print(thetas)"
   ]
  },
  {
   "cell_type": "markdown",
   "metadata": {},
   "source": [
    "<h2><center>2x2 Transfer matrix method (s polarization)</center></h2>\n",
    "\n",
    "The equation that allows to describe the transfer of a wave through multiple layers is the following:"
   ]
  },
  {
   "cell_type": "markdown",
   "metadata": {},
   "source": [
    "$$\\begin{bmatrix} 1 \\\\ E_{1}^{\\leftarrow}/E_{1}^{\\rightarrow} \\\\ \\end{bmatrix}\\ = A\\begin{bmatrix} E_{N + 1}^{\\rightarrow}/E_{1}^{\\rightarrow} \\\\ 0 \\\\ \\end{bmatrix}$$\n",
    "\n",
    "$$ Donde:  {A = \\begin{bmatrix} 1 & 1 \\\\ n_{1}\\cos\\theta_{1} & {- n}_{1}\\cos\\theta_{1} \\\\ \\end{bmatrix}}^{- 1}\\left\\lbrack \\prod_{j = 2}^{N}M_{j} \\right\\rbrack\\begin{bmatrix} 1 & 1 \\\\ n_{N + 1}\\cos\\theta_{N + 1} & {- n}_{N + 1}\\cos\\theta_{N + 1} \\\\ \\end{bmatrix}$$\n",
    "\n",
    "$$ Donde:  M_{j} = \\begin{bmatrix} 1 & 1 \\\\ n_{j}\\cos\\theta_{j} & {- n}_{j}\\cos\\theta_{j} \\\\ \\end{bmatrix}\\begin{bmatrix} e^{i\\phi_{j}} & e^{- i\\phi_{j}} \\\\ n_{j}\\cos{\\theta_{j}e^{i\\phi_{j}}} & - n_{j}\\cos{\\theta_{j}e^{- i\\phi_{j}}} \\\\ \\end{bmatrix}^{- 1}$$\n",
    "\n",
    "$$ Donde:  \\phi_{j} = \\ \\left\\{ \\begin{matrix} 0,\\ \\ \\ j = 1 \\\\ k_{j}d_{j}\\text{cos}\\theta_{j},\\ \\ \\ 2 \\leq j \\leq N \\\\ \\end{matrix} \\right.\\ $$"
   ]
  },
  {
   "cell_type": "markdown",
   "metadata": {},
   "source": [
    "-------------------------------------------------------------------------------------------------------------------------\n",
    "<h2><center>Step 03: Calculation of phase shifts associated with propagation in the middle regions</center></h2>"
   ]
  },
  {
   "cell_type": "markdown",
   "metadata": {},
   "source": [
    "Since it is already known both K's, θ's and d's it is possible to calculate all phase changes \"φ\" like this:\n",
    "\n",
    "$$ \\phi_{j} = \\ \\left\\{ \\begin{matrix} 0,\\ \\ \\ j = 1 \\\\ k_{j}d_{j}\\text{cos}\\theta_{j},\\ \\ \\ 2 \\leq j \\leq N \\\\ \\end{matrix} \\right.\\ $$"
   ]
  },
  {
   "cell_type": "code",
   "execution_count": 5,
   "metadata": {},
   "outputs": [
    {
     "name": "stdout",
     "output_type": "stream",
     "text": [
      "[0.        +0.j 3.23102326+0.j 1.75954339+0.j 1.5762546 +0.j\n",
      " 0.        +0.j]\n"
     ]
    }
   ],
   "source": [
    "phis = ks*ds*np.cos(thetas)\n",
    "print(phis)"
   ]
  },
  {
   "cell_type": "markdown",
   "metadata": {},
   "source": [
    "-------------------------------------------------------------------------------------------------------------------------\n",
    "<h2><center>Step 04: Calculation of the matrices M</center></h2>"
   ]
  },
  {
   "cell_type": "markdown",
   "metadata": {},
   "source": [
    "\n",
    "\n",
    "$$M_{j} = \\begin{bmatrix} 1 & 1 \\\\ n_{j}\\cos\\theta_{j} & {- n}_{j}\\cos\\theta_{j} \\\\ \\end{bmatrix}\\begin{bmatrix} e^{i\\phi_{j}} & e^{- i\\phi_{j}} \\\\ n_{j}\\cos{\\theta_{j}e^{i\\phi_{j}}} & - n_{j}\\cos{\\theta_{j}e^{- i\\phi_{j}}} \\\\ \\end{bmatrix}^{- 1}$$"
   ]
  },
  {
   "cell_type": "code",
   "execution_count": 6,
   "metadata": {},
   "outputs": [],
   "source": [
    "ones=np.ones(N+2)\n",
    "nc=index*np.cos(thetas)\n",
    "ephi=np.exp(1j*phis)\n",
    "n_ephi=np.exp(-1j*phis)\n",
    "\n",
    "M1=np.reshape(np.array([ones,ones,nc,-nc]).T,[N+2,2,2])\n",
    "M2=np.linalg.inv(np.reshape(np.array([ephi,n_ephi,nc*ephi,-nc*n_ephi]).T,[N+2,2,2]))\n",
    "M=np.matmul(M1, M2)"
   ]
  },
  {
   "cell_type": "markdown",
   "metadata": {},
   "source": [
    "-------------------------------------------------------------------------------------------------------------------------\n",
    "<h2><center>Step 05: Product operator of the matrices M</center></h2>"
   ]
  },
  {
   "cell_type": "markdown",
   "metadata": {},
   "source": [
    "$$\\prod_{j = 2}^{N}M_{j}$$"
   ]
  },
  {
   "cell_type": "code",
   "execution_count": 7,
   "metadata": {},
   "outputs": [],
   "source": [
    "prod=np.linalg.multi_dot(M[1:N+1])"
   ]
  },
  {
   "cell_type": "markdown",
   "metadata": {},
   "source": [
    "-------------------------------------------------------------------------------------------------------------------------\n",
    "<h2><center>Step 06: Calculation of the A matirx</center></h2>"
   ]
  },
  {
   "cell_type": "markdown",
   "metadata": {},
   "source": [
    "$${A = \\begin{bmatrix} 1 & 1 \\\\ n_{1}\\cos\\theta_{1} & {- n}_{1}\\cos\\theta_{1} \\\\ \\end{bmatrix}}^{- 1}\\left\\lbrack \\prod_{j = 1}^{N}M_{j} \\right\\rbrack\\begin{bmatrix} 1 & 1 \\\\ n_{N + 1}\\cos\\theta_{N + 1} & {- n}_{N + 1}\\cos\\theta_{N + 1} \\\\ \\end{bmatrix}$$"
   ]
  },
  {
   "cell_type": "code",
   "execution_count": 8,
   "metadata": {},
   "outputs": [],
   "source": [
    "A1=np.linalg.inv([[1,1],[index[0]*np.cos(thetas[0]),-index[0]*np.cos(thetas[0])]])\n",
    "A2=np.array([[1,1],[index[N+1]*np.cos(thetas[N+1]),-index[N+1]*np.cos(thetas[N+1])]])\n",
    "A=A1@prod@A2"
   ]
  },
  {
   "cell_type": "markdown",
   "metadata": {},
   "source": [
    "-------------------------------------------------------------------------------------------------------------------------\n",
    "<h2><center>Step 07: Calculation of the Reflection, refraction and absorption indices</center></h2>"
   ]
  },
  {
   "cell_type": "markdown",
   "metadata": {},
   "source": [
    "Accordin to the ecuation:\n",
    "\n",
    "$$\\begin{bmatrix} 1 \\\\ E_{1}^{\\leftarrow}/E_{1}^{\\rightarrow} \\\\ \\end{bmatrix}\\ = A\\begin{bmatrix} E_{N + 1}^{\\rightarrow}/E_{1}^{\\rightarrow} \\\\ 0 \\\\ \\end{bmatrix}$$\n",
    "\n",
    "It can be determined the reflection and transmission indices as follows:\n",
    "\n",
    "$$t_{\\text{tot}} = \\ \\frac{E_{N + 1}^{\\rightarrow}}{E_{1}^{\\rightarrow}} = \\ \\frac{1}{a_{11}}$$\n",
    "$$r_{\\text{tot}} = \\ \\frac{E_{1}^{\\leftarrow}}{E_{1}^{\\rightarrow}} = \\ \\frac{a_{21}}{a_{11}}$$"
   ]
  },
  {
   "cell_type": "code",
   "execution_count": 10,
   "metadata": {},
   "outputs": [
    {
     "name": "stdout",
     "output_type": "stream",
     "text": [
      "t = (0.9073459163538996+0.3471675269443585j)\n",
      "r = (-0.16380030156780467+0.1713696516817859j)\n",
      "T = 0.9438019036887595\n",
      "R = 0.05619809631124037\n",
      "A = 1.3877787807814457e-16\n"
     ]
    }
   ],
   "source": [
    "t_tot=1/A[0,0]\n",
    "r_tot=A[1,0]/A[0,0]\n",
    "print(\"t = \" + str(t_tot))\n",
    "print(\"r = \" + str(r_tot))\n",
    "print(\"T = \" + str(np.absolute(t_tot)**2))\n",
    "print(\"R = \" + str(np.absolute(r_tot)**2))\n",
    "print(\"A = \" + str(1-np.absolute(t_tot)**2-np.absolute(r_tot)**2))"
   ]
  },
  {
   "cell_type": "markdown",
   "metadata": {},
   "source": [
    "________________________________________________________________________________________________________________________\n"
   ]
  },
  {
   "cell_type": "markdown",
   "metadata": {},
   "source": [
    "<h2><center>2x2 Transfer matrix method (p polarization)</center></h2>\n",
    "\n",
    "In the same way, the equation that allows to describe the transfer of a wave through multiple layers is the following:"
   ]
  },
  {
   "cell_type": "markdown",
   "metadata": {},
   "source": [
    "$$\\begin{bmatrix} 1 \\\\ E_{1}^{\\leftarrow}/E_{1}^{\\rightarrow} \\\\ \\end{bmatrix}\\ = A\\begin{bmatrix} E_{N + 1}^{\\rightarrow}/E_{1}^{\\rightarrow} \\\\ 0 \\\\ \\end{bmatrix}$$\n",
    "\n",
    "$$ Donde:  {A = \\begin{bmatrix} \\cos\\theta_{1} & \\cos\\theta_{1} \\\\ n_{1} & {- n}_{1} \\\\ \\end{bmatrix}}^{- 1}\\left\\lbrack \\prod_{j = 2}^{N}M_{j} \\right\\rbrack\\begin{bmatrix} \\cos\\theta_{N + 1} & \\cos\\theta_{N + 1} \\\\ n_{N + 1} & {- n}_{N + 1} \\\\ \\end{bmatrix}$$\n",
    "\n",
    "$$ Donde:  M_{j} = \\begin{bmatrix} \\cos\\theta_{j} & \\cos\\theta_{j} \\\\ n_{j} & {- n}_{j} \\\\ \\end{bmatrix}\\begin{bmatrix} \\cos{\\theta_{j}}e^{i\\phi_{j}} & \\cos{\\theta_{j}}e^{- i\\phi_{j}} \\\\ n_{j}e^{i\\phi_{j}} & - n_{j}e^{- i\\phi_{j}} \\\\ \\end{bmatrix}^{- 1}$$"
   ]
  },
  {
   "cell_type": "markdown",
   "metadata": {},
   "source": [
    "-------------------------------------------------------------------------------------------------------------------------\n",
    "<h2><center>Step 08: Calculation of the matrices M</center></h2>"
   ]
  },
  {
   "cell_type": "code",
   "execution_count": 11,
   "metadata": {},
   "outputs": [],
   "source": [
    "cos=np.cos(thetas)\n",
    "ephi=np.exp(1j*phis)\n",
    "n_ephi=np.exp(-1j*phis)\n",
    "\n",
    "M1=np.reshape(np.array([cos,cos,index,-index]).T,[N+2,2,2])\n",
    "M2=np.linalg.inv(np.reshape(np.array([cos*ephi,cos*n_ephi,index*ephi,-index*n_ephi]).T,[N+2,2,2]))\n",
    "M=np.matmul(M1, M2)\n",
    "#MM=np.reshape(np.array([np.cos(phis),-1j*np.sin(phis)*np.cos(thetas)/index,-1j*index*np.sin(phis)/np.cos(thetas),np.cos(phis)]).T,[N+2,2,2])"
   ]
  },
  {
   "cell_type": "markdown",
   "metadata": {},
   "source": [
    "-------------------------------------------------------------------------------------------------------------------------\n",
    "<h2><center>Step 09: Product operator of the matrices M</center></h2>"
   ]
  },
  {
   "cell_type": "markdown",
   "metadata": {},
   "source": [
    "$$\\prod_{j = 2}^{N}M_{j}$$"
   ]
  },
  {
   "cell_type": "code",
   "execution_count": 12,
   "metadata": {},
   "outputs": [],
   "source": [
    "prod=np.linalg.multi_dot(M[1:N+1])"
   ]
  },
  {
   "cell_type": "markdown",
   "metadata": {},
   "source": [
    "-------------------------------------------------------------------------------------------------------------------------\n",
    "<h2><center>Step 10: Calculation of the A matirx</center></h2>"
   ]
  },
  {
   "cell_type": "markdown",
   "metadata": {},
   "source": [
    "$$  {A = \\begin{bmatrix} \\cos\\theta_{1} & \\cos\\theta_{1} \\\\ n_{1} & {- n}_{1} \\\\ \\end{bmatrix}}^{- 1}\\left\\lbrack \\prod_{j = 2}^{N}M_{j} \\right\\rbrack\\begin{bmatrix} \\cos\\theta_{N + 1} & \\cos\\theta_{N + 1} \\\\ n_{N + 1} & {- n}_{N + 1} \\\\ \\end{bmatrix}$$"
   ]
  },
  {
   "cell_type": "code",
   "execution_count": 13,
   "metadata": {},
   "outputs": [],
   "source": [
    "A1=np.linalg.inv([[np.cos(thetas[0]),np.cos(thetas[0])],[index[0], -index[0]]])\n",
    "A2=np.array([[np.cos(thetas[N+1]),np.cos(thetas[N+1])],[index[N+1],-index[N+1]]])\n",
    "A = A1@prod@A2"
   ]
  },
  {
   "cell_type": "markdown",
   "metadata": {},
   "source": [
    "Step 10 is repeated"
   ]
  },
  {
   "cell_type": "code",
   "execution_count": 14,
   "metadata": {},
   "outputs": [
    {
     "name": "stdout",
     "output_type": "stream",
     "text": [
      "t = (0.951737400642496+0.2934678144009234j)\n",
      "r = (-0.06710757057577814+0.05974224719934586j)\n",
      "T = 0.9919274378709898\n",
      "R = 0.008072562129010792\n",
      "A = -5.950101522600448e-16\n"
     ]
    }
   ],
   "source": [
    "t_tot=1/A[0,0]\n",
    "r_tot=A[1,0]/A[0,0]\n",
    "print(\"t = \" + str(t_tot))\n",
    "print(\"r = \" + str(r_tot))\n",
    "print(\"T = \" + str(np.absolute(t_tot)**2))\n",
    "print(\"R = \" + str(np.absolute(r_tot)**2))\n",
    "print(\"A = \" + str(1-np.absolute(t_tot)**2-np.absolute(r_tot)**2))"
   ]
  },
  {
   "cell_type": "code",
   "execution_count": null,
   "metadata": {},
   "outputs": [],
   "source": []
  }
 ],
 "metadata": {
  "kernelspec": {
   "display_name": "Python 3",
   "language": "python",
   "name": "python3"
  },
  "language_info": {
   "codemirror_mode": {
    "name": "ipython",
    "version": 3
   },
   "file_extension": ".py",
   "mimetype": "text/x-python",
   "name": "python",
   "nbconvert_exporter": "python",
   "pygments_lexer": "ipython3",
   "version": "3.6.5"
  }
 },
 "nbformat": 4,
 "nbformat_minor": 2
}
